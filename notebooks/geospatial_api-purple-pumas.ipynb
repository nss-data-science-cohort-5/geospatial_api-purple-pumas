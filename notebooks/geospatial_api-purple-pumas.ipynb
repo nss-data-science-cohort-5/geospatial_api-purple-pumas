{
 "cells": [
  {
   "cell_type": "markdown",
   "id": "570d8d02",
   "metadata": {},
   "source": [
    "# Analyzing Aggravated Burglaries in Davidson County"
   ]
  },
  {
   "cell_type": "code",
   "execution_count": 32,
   "id": "587aa2df",
   "metadata": {},
   "outputs": [],
   "source": [
    "import pandas as pd\n",
    "import numpy as np\n",
    "import matplotlib.pyplot as plt\n",
    "import requests\n",
    "from IPython.display import Image\n",
    "import json\n",
    "import geopandas as gpd\n",
    "from io import StringIO"
   ]
  },
  {
   "cell_type": "markdown",
   "id": "9f2b39b8",
   "metadata": {},
   "source": [
    "Create a choropleth showing the number of burglaries per 1000 residents for each census tract.\n",
    "\n",
    "Finally, we'll build some statistical models to see how well we can explain the number of aggravated burglaries using the median income of each census tract. For this, we'll be using the Generalized Linear Models module of the statsmodels library.\n",
    "\n",
    "a. Build a \"base model\" - a Poisson regression model with just an intercept term with target variable the rate of burglaries per census tract. (Offset using the [log of the] population so that we are looking at the rate of burglaries per population instead of the number of burglaries.)\n",
    "\n",
    "b. Now, build a Poisson regression model with target variable the rate of burglaries and predictor variable the median income. (Don't forget to offset by the population).\n",
    "\n",
    "c. Finally, try out a negative binomial model. To get started with a negative binomial model, you can check out this tutorial.\n",
    "\n",
    "d. How do your models compare? Hint: the fit models have an AIC attribute.\n",
    "\n",
    "Prepare a short presentation (<10 minutes) of your findings.\n",
    "\n",
    "Additional Resources for Generalized Linear Models:\n",
    "\n",
    "DataCamp - Generalized Linear Models in Python\n",
    "Beyond Multiple Linear Regression, Chapter 4 Warning - the code in this book is all R, but the conceptual explanations are very clear.\n",
    "This set of notes, which talks about the problem of overdispersion."
   ]
  },
  {
   "cell_type": "markdown",
   "id": "54e243b0",
   "metadata": {},
   "source": [
    "1. A dataset containing details about Metro Nashville Police Department reported incidents is available at https://data.nashville.gov/Police/Metro-Nashville-Police-Department-Incidents/2u6v-ujjs. Make use of the API to find all aggravated burglary incidents that were reported during the six month period from January 1, 2021 through June 30, 2021."
   ]
  },
  {
   "cell_type": "code",
   "execution_count": 38,
   "id": "516c4142",
   "metadata": {},
   "outputs": [],
   "source": [
    "endpoint = 'https://data.nashville.gov/resource/2u6v-ujjs.geojson'\n",
    "params = {'offense_description':'BURGLARY- AGGRAVATED',\n",
    "              '$where':'incident_occurred between \\'2021-01-01\\' and \\'2021-06-30\\'',\n",
    "              '$limit':2000\n",
    "              }\n",
    "response = requests.get(endpoint, params = params)"
   ]
  },
  {
   "cell_type": "code",
   "execution_count": 41,
   "id": "b81c1994",
   "metadata": {},
   "outputs": [],
   "source": [
    "agg_burg = gpd.read_file(StringIO(response.text))"
   ]
  },
  {
   "cell_type": "code",
   "execution_count": 48,
   "id": "537a98df",
   "metadata": {},
   "outputs": [],
   "source": [
    "# drop duplicate rows with the same incident_number\n",
    "agg_burg=agg_burg.drop_duplicates(subset = ['incident_number'])"
   ]
  },
  {
   "cell_type": "markdown",
   "id": "d7ab3214",
   "metadata": {},
   "source": [
    "2. Download the 2019 census tract shapefiles for Tennessee from https://www.census.gov/geographies/mapping-files/time-series/geo/tiger-line-file.2019.html. (The FIPS code for Tennessee is 47). Perform a spatial join to determine the census tract in which each burglary incident occurred. Which census tract had the highest number of burglaries? Warning - each incident can appear multiple times if there are multiple victims, so be sure that you aren't double-counting any incidents."
   ]
  },
  {
   "cell_type": "code",
   "execution_count": 49,
   "id": "5b4bf222",
   "metadata": {},
   "outputs": [],
   "source": [
    "census_tract=gpd.read_file('../data/tl_2019_47_tract/')"
   ]
  },
  {
   "cell_type": "code",
   "execution_count": 52,
   "id": "b9944759",
   "metadata": {
    "scrolled": true
   },
   "outputs": [
    {
     "data": {
      "text/html": [
       "<div>\n",
       "<style scoped>\n",
       "    .dataframe tbody tr th:only-of-type {\n",
       "        vertical-align: middle;\n",
       "    }\n",
       "\n",
       "    .dataframe tbody tr th {\n",
       "        vertical-align: top;\n",
       "    }\n",
       "\n",
       "    .dataframe thead th {\n",
       "        text-align: right;\n",
       "    }\n",
       "</style>\n",
       "<table border=\"1\" class=\"dataframe\">\n",
       "  <thead>\n",
       "    <tr style=\"text-align: right;\">\n",
       "      <th></th>\n",
       "      <th>STATEFP</th>\n",
       "      <th>COUNTYFP</th>\n",
       "      <th>TRACTCE</th>\n",
       "      <th>GEOID</th>\n",
       "      <th>NAME</th>\n",
       "      <th>NAMELSAD</th>\n",
       "      <th>MTFCC</th>\n",
       "      <th>FUNCSTAT</th>\n",
       "      <th>ALAND</th>\n",
       "      <th>AWATER</th>\n",
       "      <th>INTPTLAT</th>\n",
       "      <th>INTPTLON</th>\n",
       "      <th>geometry</th>\n",
       "    </tr>\n",
       "  </thead>\n",
       "  <tbody>\n",
       "    <tr>\n",
       "      <th>0</th>\n",
       "      <td>47</td>\n",
       "      <td>165</td>\n",
       "      <td>021002</td>\n",
       "      <td>47165021002</td>\n",
       "      <td>210.02</td>\n",
       "      <td>Census Tract 210.02</td>\n",
       "      <td>G5020</td>\n",
       "      <td>S</td>\n",
       "      <td>30654374</td>\n",
       "      <td>207994</td>\n",
       "      <td>+36.3521602</td>\n",
       "      <td>-086.6464309</td>\n",
       "      <td>POLYGON ((-86.69927 36.32775, -86.69923 36.327...</td>\n",
       "    </tr>\n",
       "    <tr>\n",
       "      <th>1</th>\n",
       "      <td>47</td>\n",
       "      <td>165</td>\n",
       "      <td>020901</td>\n",
       "      <td>47165020901</td>\n",
       "      <td>209.01</td>\n",
       "      <td>Census Tract 209.01</td>\n",
       "      <td>G5020</td>\n",
       "      <td>S</td>\n",
       "      <td>23811766</td>\n",
       "      <td>3412697</td>\n",
       "      <td>+36.3483143</td>\n",
       "      <td>-086.4070907</td>\n",
       "      <td>POLYGON ((-86.43949 36.35962, -86.43915 36.359...</td>\n",
       "    </tr>\n",
       "    <tr>\n",
       "      <th>2</th>\n",
       "      <td>47</td>\n",
       "      <td>165</td>\n",
       "      <td>020300</td>\n",
       "      <td>47165020300</td>\n",
       "      <td>203</td>\n",
       "      <td>Census Tract 203</td>\n",
       "      <td>G5020</td>\n",
       "      <td>S</td>\n",
       "      <td>14629292</td>\n",
       "      <td>0</td>\n",
       "      <td>+36.5796910</td>\n",
       "      <td>-086.5114955</td>\n",
       "      <td>POLYGON ((-86.53716 36.56852, -86.53713 36.568...</td>\n",
       "    </tr>\n",
       "    <tr>\n",
       "      <th>3</th>\n",
       "      <td>47</td>\n",
       "      <td>165</td>\n",
       "      <td>020902</td>\n",
       "      <td>47165020902</td>\n",
       "      <td>209.02</td>\n",
       "      <td>Census Tract 209.02</td>\n",
       "      <td>G5020</td>\n",
       "      <td>S</td>\n",
       "      <td>9756715</td>\n",
       "      <td>0</td>\n",
       "      <td>+36.3724350</td>\n",
       "      <td>-086.4411274</td>\n",
       "      <td>POLYGON ((-86.47106 36.38238, -86.47081 36.382...</td>\n",
       "    </tr>\n",
       "    <tr>\n",
       "      <th>4</th>\n",
       "      <td>47</td>\n",
       "      <td>165</td>\n",
       "      <td>020800</td>\n",
       "      <td>47165020800</td>\n",
       "      <td>208</td>\n",
       "      <td>Census Tract 208</td>\n",
       "      <td>G5020</td>\n",
       "      <td>S</td>\n",
       "      <td>10235406</td>\n",
       "      <td>37743</td>\n",
       "      <td>+36.4005117</td>\n",
       "      <td>-086.4528100</td>\n",
       "      <td>POLYGON ((-86.48786 36.37320, -86.48783 36.373...</td>\n",
       "    </tr>\n",
       "    <tr>\n",
       "      <th>...</th>\n",
       "      <td>...</td>\n",
       "      <td>...</td>\n",
       "      <td>...</td>\n",
       "      <td>...</td>\n",
       "      <td>...</td>\n",
       "      <td>...</td>\n",
       "      <td>...</td>\n",
       "      <td>...</td>\n",
       "      <td>...</td>\n",
       "      <td>...</td>\n",
       "      <td>...</td>\n",
       "      <td>...</td>\n",
       "      <td>...</td>\n",
       "    </tr>\n",
       "    <tr>\n",
       "      <th>1492</th>\n",
       "      <td>47</td>\n",
       "      <td>157</td>\n",
       "      <td>022112</td>\n",
       "      <td>47157022112</td>\n",
       "      <td>221.12</td>\n",
       "      <td>Census Tract 221.12</td>\n",
       "      <td>G5020</td>\n",
       "      <td>S</td>\n",
       "      <td>3293232</td>\n",
       "      <td>0</td>\n",
       "      <td>+35.0282414</td>\n",
       "      <td>-090.0009887</td>\n",
       "      <td>POLYGON ((-90.01257 35.02328, -90.01256 35.023...</td>\n",
       "    </tr>\n",
       "    <tr>\n",
       "      <th>1493</th>\n",
       "      <td>47</td>\n",
       "      <td>073</td>\n",
       "      <td>050501</td>\n",
       "      <td>47073050501</td>\n",
       "      <td>505.01</td>\n",
       "      <td>Census Tract 505.01</td>\n",
       "      <td>G5020</td>\n",
       "      <td>S</td>\n",
       "      <td>83253173</td>\n",
       "      <td>0</td>\n",
       "      <td>+36.5659218</td>\n",
       "      <td>-082.7714427</td>\n",
       "      <td>POLYGON ((-82.85011 36.54107, -82.84955 36.541...</td>\n",
       "    </tr>\n",
       "    <tr>\n",
       "      <th>1494</th>\n",
       "      <td>47</td>\n",
       "      <td>073</td>\n",
       "      <td>050601</td>\n",
       "      <td>47073050601</td>\n",
       "      <td>506.01</td>\n",
       "      <td>Census Tract 506.01</td>\n",
       "      <td>G5020</td>\n",
       "      <td>S</td>\n",
       "      <td>23852225</td>\n",
       "      <td>177932</td>\n",
       "      <td>+36.5836443</td>\n",
       "      <td>-082.6318663</td>\n",
       "      <td>POLYGON ((-82.68939 36.58793, -82.68936 36.588...</td>\n",
       "    </tr>\n",
       "    <tr>\n",
       "      <th>1495</th>\n",
       "      <td>47</td>\n",
       "      <td>073</td>\n",
       "      <td>050602</td>\n",
       "      <td>47073050602</td>\n",
       "      <td>506.02</td>\n",
       "      <td>Census Tract 506.02</td>\n",
       "      <td>G5020</td>\n",
       "      <td>S</td>\n",
       "      <td>23381992</td>\n",
       "      <td>668716</td>\n",
       "      <td>+36.5467218</td>\n",
       "      <td>-082.6458382</td>\n",
       "      <td>POLYGON ((-82.69446 36.54856, -82.69445 36.548...</td>\n",
       "    </tr>\n",
       "    <tr>\n",
       "      <th>1496</th>\n",
       "      <td>47</td>\n",
       "      <td>073</td>\n",
       "      <td>050502</td>\n",
       "      <td>47073050502</td>\n",
       "      <td>505.02</td>\n",
       "      <td>Census Tract 505.02</td>\n",
       "      <td>G5020</td>\n",
       "      <td>S</td>\n",
       "      <td>32873681</td>\n",
       "      <td>311980</td>\n",
       "      <td>+36.5332207</td>\n",
       "      <td>-082.7586081</td>\n",
       "      <td>POLYGON ((-82.82242 36.52006, -82.82171 36.520...</td>\n",
       "    </tr>\n",
       "  </tbody>\n",
       "</table>\n",
       "<p>1497 rows × 13 columns</p>\n",
       "</div>"
      ],
      "text/plain": [
       "     STATEFP COUNTYFP TRACTCE        GEOID    NAME             NAMELSAD  \\\n",
       "0         47      165  021002  47165021002  210.02  Census Tract 210.02   \n",
       "1         47      165  020901  47165020901  209.01  Census Tract 209.01   \n",
       "2         47      165  020300  47165020300     203     Census Tract 203   \n",
       "3         47      165  020902  47165020902  209.02  Census Tract 209.02   \n",
       "4         47      165  020800  47165020800     208     Census Tract 208   \n",
       "...      ...      ...     ...          ...     ...                  ...   \n",
       "1492      47      157  022112  47157022112  221.12  Census Tract 221.12   \n",
       "1493      47      073  050501  47073050501  505.01  Census Tract 505.01   \n",
       "1494      47      073  050601  47073050601  506.01  Census Tract 506.01   \n",
       "1495      47      073  050602  47073050602  506.02  Census Tract 506.02   \n",
       "1496      47      073  050502  47073050502  505.02  Census Tract 505.02   \n",
       "\n",
       "      MTFCC FUNCSTAT     ALAND   AWATER     INTPTLAT      INTPTLON  \\\n",
       "0     G5020        S  30654374   207994  +36.3521602  -086.6464309   \n",
       "1     G5020        S  23811766  3412697  +36.3483143  -086.4070907   \n",
       "2     G5020        S  14629292        0  +36.5796910  -086.5114955   \n",
       "3     G5020        S   9756715        0  +36.3724350  -086.4411274   \n",
       "4     G5020        S  10235406    37743  +36.4005117  -086.4528100   \n",
       "...     ...      ...       ...      ...          ...           ...   \n",
       "1492  G5020        S   3293232        0  +35.0282414  -090.0009887   \n",
       "1493  G5020        S  83253173        0  +36.5659218  -082.7714427   \n",
       "1494  G5020        S  23852225   177932  +36.5836443  -082.6318663   \n",
       "1495  G5020        S  23381992   668716  +36.5467218  -082.6458382   \n",
       "1496  G5020        S  32873681   311980  +36.5332207  -082.7586081   \n",
       "\n",
       "                                               geometry  \n",
       "0     POLYGON ((-86.69927 36.32775, -86.69923 36.327...  \n",
       "1     POLYGON ((-86.43949 36.35962, -86.43915 36.359...  \n",
       "2     POLYGON ((-86.53716 36.56852, -86.53713 36.568...  \n",
       "3     POLYGON ((-86.47106 36.38238, -86.47081 36.382...  \n",
       "4     POLYGON ((-86.48786 36.37320, -86.48783 36.373...  \n",
       "...                                                 ...  \n",
       "1492  POLYGON ((-90.01257 35.02328, -90.01256 35.023...  \n",
       "1493  POLYGON ((-82.85011 36.54107, -82.84955 36.541...  \n",
       "1494  POLYGON ((-82.68939 36.58793, -82.68936 36.588...  \n",
       "1495  POLYGON ((-82.69446 36.54856, -82.69445 36.548...  \n",
       "1496  POLYGON ((-82.82242 36.52006, -82.82171 36.520...  \n",
       "\n",
       "[1497 rows x 13 columns]"
      ]
     },
     "execution_count": 52,
     "metadata": {},
     "output_type": "execute_result"
    }
   ],
   "source": [
    "census_tract"
   ]
  },
  {
   "cell_type": "code",
   "execution_count": 53,
   "id": "da6e562f",
   "metadata": {},
   "outputs": [
    {
     "name": "stderr",
     "output_type": "stream",
     "text": [
      "/var/folders/h3/4dwpklsd0vq23n7lrrx_lryr0000gn/T/ipykernel_7204/1384890642.py:1: UserWarning: CRS mismatch between the CRS of left geometries and the CRS of right geometries.\n",
      "Use `to_crs()` to reproject one of the input geometries to match the CRS of the other.\n",
      "\n",
      "Left CRS: EPSG:4326\n",
      "Right CRS: EPSG:4269\n",
      "\n",
      "  burg_census = gpd.sjoin(agg_burg, census_tract, op = 'within')\n"
     ]
    }
   ],
   "source": [
    "burg_census = gpd.sjoin(agg_burg, census_tract, op = 'within')"
   ]
  },
  {
   "cell_type": "code",
   "execution_count": 63,
   "id": "fc0965a2",
   "metadata": {},
   "outputs": [
    {
     "data": {
      "text/plain": [
       "'Census Tract 163'"
      ]
     },
     "execution_count": 63,
     "metadata": {},
     "output_type": "execute_result"
    }
   ],
   "source": [
    "burg_census['NAMELSAD'].value_counts().index[0]"
   ]
  },
  {
   "cell_type": "markdown",
   "id": "28bd045a",
   "metadata": {},
   "source": [
    "3. For this part, you'll need to request a census API key. Using the 2019 American Community Survey API, obtain, for each census tract, the population (B01001_001E in the detailed tables) and the median income (S1901_C01_012E in the subject tables). Hint: Tennessee's FIPS code is 47 and Davidson County's FIPS code is 37. Merge this new data with the burglaries data above."
   ]
  },
  {
   "cell_type": "code",
   "execution_count": 103,
   "id": "fabd9bde",
   "metadata": {},
   "outputs": [],
   "source": [
    "with open('../data/census.json') as fi:\n",
    "    credentials = json.load(fi)\n",
    "api_key = credentials['api_key']"
   ]
  },
  {
   "cell_type": "code",
   "execution_count": null,
   "id": "bb18da65",
   "metadata": {},
   "outputs": [],
   "source": []
  }
 ],
 "metadata": {
  "kernelspec": {
   "display_name": "Python 3 (ipykernel)",
   "language": "python",
   "name": "python3"
  },
  "language_info": {
   "codemirror_mode": {
    "name": "ipython",
    "version": 3
   },
   "file_extension": ".py",
   "mimetype": "text/x-python",
   "name": "python",
   "nbconvert_exporter": "python",
   "pygments_lexer": "ipython3",
   "version": "3.8.5"
  }
 },
 "nbformat": 4,
 "nbformat_minor": 5
}
