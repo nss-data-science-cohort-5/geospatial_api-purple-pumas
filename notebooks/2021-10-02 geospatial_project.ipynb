{
 "cells": [
  {
   "cell_type": "code",
   "execution_count": 1,
   "id": "cd728394",
   "metadata": {},
   "outputs": [],
   "source": [
    "import requests\n",
    "import matplotlib.pyplot as plt\n",
    "from IPython.display import Image\n",
    "import pandas as pd\n",
    "import json\n",
    "import geopandas as gpd\n",
    "import folium\n",
    "from folium.plugins import MarkerCluster\n",
    "from folium.plugins import FastMarkerCluster\n",
    "from io import StringIO\n",
    "%matplotlib inline"
   ]
  },
  {
   "cell_type": "markdown",
   "id": "28bab10f",
   "metadata": {},
   "source": [
    "1. A dataset containing details about Metro Nashville Police Department reported incidents is available at https://data.nashville.gov/Police/Metro-Nashville-Police-Department-Incidents/2u6v-ujjs. Make use of the API to find all aggravated burglary incidents that were reported during the six month period from January 1, 2021 through June 30, 2021."
   ]
  },
  {
   "cell_type": "code",
   "execution_count": 2,
   "id": "7a1fce93",
   "metadata": {},
   "outputs": [],
   "source": [
    "#get geojson from nashville.gov\n",
    "crime_endpoint = 'https://data.nashville.gov/resource/2u6v-ujjs.geojson'\n",
    "#params to select for aggravated burglary and dates\n",
    "crime_params = {\n",
    "    'offense_description': 'BURGLARY- AGGRAVATED',\n",
    "    '$where': 'incident_reported between \\'2021-01-01\\' and\\'2021-06-30\\'',\n",
    "    '$limit': 2000\n",
    "}\n",
    "crime_response = requests.get(crime_endpoint, params = crime_params)\n",
    "\n",
    "#convert dictionary to text and convert to dataframe with geopandas\n",
    "crime = (gpd.read_file(StringIO(crime_response.text)))\n",
    "\n",
    "#drop duplicates to prevent double counting incidents with multiple victims\n",
    "crime = crime.drop_duplicates(subset = 'incident_number')"
   ]
  },
  {
   "cell_type": "markdown",
   "id": "f4f2d3a2",
   "metadata": {},
   "source": [
    "2. Download the 2019 census tract shapefiles for Tennessee from https://www.census.gov/geographies/mapping-files/time-series/geo/tiger-line-file.2019.html. (The FIPS code for Tennessee is 47). Perform a spatial join to determine the census tract in which each burglary incident occurred. Which census tract had the highest number of burglaries? Warning - each incident can appear multiple times if there are multiple victims, so be sure that you aren't double-counting any incidents."
   ]
  },
  {
   "cell_type": "code",
   "execution_count": 3,
   "id": "13f34542",
   "metadata": {
    "scrolled": true
   },
   "outputs": [
    {
     "name": "stdout",
     "output_type": "stream",
     "text": [
      "epsg:4326\n",
      "epsg:4326\n",
      "<class 'geopandas.geodataframe.GeoDataFrame'>\n",
      "<class 'geopandas.geodataframe.GeoDataFrame'>\n"
     ]
    }
   ],
   "source": [
    "#download census tract file and place in data folder. Read the .shp in with Geopandas and assign to census_tract\n",
    "census_tract = gpd.read_file('../data/tl_2019_47_tract/tl_2019_47_tract.shp')\n",
    "\n",
    "#convert from geoseries to geodataframe and change crs type to match crime GeoDataFrame 'EPSG:4326'\n",
    "census_tract = gpd.GeoDataFrame(census_tract, \n",
    "                           crs = crime.crs, \n",
    "                           geometry = crime['geometry'])\n",
    "\n",
    "#confirm identical crs type\n",
    "print(census_tract.crs)\n",
    "print(crime.crs)\n",
    "print(type(crime))\n",
    "print(type(census_tract))"
   ]
  },
  {
   "cell_type": "code",
   "execution_count": 25,
   "id": "f5b70745",
   "metadata": {},
   "outputs": [
    {
     "data": {
      "text/plain": [
       "TRACTCE\n",
       "980100    57\n",
       "Name: incident_number, dtype: int64"
      ]
     },
     "execution_count": 25,
     "metadata": {},
     "output_type": "execute_result"
    }
   ],
   "source": [
    "#join crime with census_tract\n",
    "crime_census_tract = gpd.sjoin(crime, census_tract, op = 'within')\n",
    "\n",
    "#Find the census tract with the largest number of aggravated burglaries\n",
    "crime_census_tract.groupby('TRACTCE')['incident_number'].nunique().nlargest(n=1)"
   ]
  },
  {
   "cell_type": "code",
   "execution_count": 17,
   "id": "5b3b915c",
   "metadata": {},
   "outputs": [
    {
     "data": {
      "text/plain": [
       "Index(['victim_county_resident', 'zip_code', 'victim_number', 'offense_nibrs',\n",
       "       'rpa', 'latitude', 'victim_race', 'incident_number',\n",
       "       'investigation_status', 'offense_number', 'offense_description',\n",
       "       'longitude', 'domestic_related', 'victim_ethnicity',\n",
       "       'incident_location', 'victim_description', 'location_code',\n",
       "       'report_type', 'incident_reported', 'weapon_description',\n",
       "       'location_description', 'weapon_primary', 'report_type_description',\n",
       "       'victim_type', 'incident_status_code', 'incident_status_description',\n",
       "       'zone', 'victim_gender', 'incident_occurred', 'primary_key', 'geometry',\n",
       "       'index_right', 'STATEFP', 'COUNTYFP', 'TRACTCE', 'GEOID', 'NAME',\n",
       "       'NAMELSAD', 'MTFCC', 'FUNCSTAT', 'ALAND', 'AWATER', 'INTPTLAT',\n",
       "       'INTPTLON'],\n",
       "      dtype='object')"
      ]
     },
     "execution_count": 17,
     "metadata": {},
     "output_type": "execute_result"
    }
   ],
   "source": [
    "crime_census_tract.columns"
   ]
  },
  {
   "cell_type": "markdown",
   "id": "630a5aa0",
   "metadata": {},
   "source": [
    "3. For this part, you'll need to request a [census API key](https://api.census.gov/data/key_signup.html). Using the [2019 American Community Survey API](https://www.census.gov/data/developers/data-sets/acs-5year.html), obtain, for each census tract, the population (B01001_001E in the detailed tables) and the median income (S1901_C01_012E in the subject tables). Hint: Tennessee's FIPS code is 47 and Davidson County's FIPS code is 37. Merge this new data with the burglaries data above."
   ]
  },
  {
   "cell_type": "code",
   "execution_count": 5,
   "id": "22d1a069",
   "metadata": {},
   "outputs": [],
   "source": [
    "#get API key\n",
    "with open('../data/jg_census_API_key.json') as fi:\n",
    "    credentials = json.load(fi)\n",
    "    \n",
    "api_key = credentials['api_key']"
   ]
  },
  {
   "cell_type": "code",
   "execution_count": 6,
   "id": "15f48721",
   "metadata": {},
   "outputs": [],
   "source": [
    "#set up endpoint and params for population dataset\n",
    "pop_endpoint = 'https://api.census.gov/data/2019/acs/acs5'\n",
    "pop_params = {\n",
    "    'get': 'B01001_001E',\n",
    "    'for': 'tract:*',\n",
    "    'in': 'state:47 county:037',\n",
    "    'key': api_key\n",
    "}\n",
    "pop_response = requests.get(pop_endpoint, params = pop_params)\n",
    "              "
   ]
  },
  {
   "cell_type": "code",
   "execution_count": 7,
   "id": "454fe280",
   "metadata": {},
   "outputs": [],
   "source": [
    "#convert pop_response to json\n",
    "pop_response = pop_response.json()\n",
    "#create the dataframe and simplify the name.\n",
    "pop = pd.DataFrame(data = pop_response[1:], columns = pop_response[0])\n",
    "#convert population column to int and rename to something that at least looks like \"population\"\n",
    "pop['B01001_001E'] = pop['B01001_001E'].astype(int)\n",
    "pop = pop.rename(columns = {'B01001_001E': 'population'})"
   ]
  },
  {
   "cell_type": "code",
   "execution_count": 10,
   "id": "e052783d",
   "metadata": {},
   "outputs": [],
   "source": [
    "#set up endpoint and params for median income dataset \n",
    "income_endpoint = 'https://api.census.gov/data/2019/acs/acs5/subject'\n",
    "income_params = {\n",
    "    'get': 'S1901_C01_012E',\n",
    "    'for': 'tract:*',\n",
    "    'in': 'state:47 county:037',\n",
    "    'key': api_key\n",
    "}\n",
    "income_response = requests.get(income_endpoint, params = income_params)"
   ]
  },
  {
   "cell_type": "code",
   "execution_count": 12,
   "id": "f43374f2",
   "metadata": {},
   "outputs": [],
   "source": [
    "income_response = income_response.json()\n",
    "inc = pd.DataFrame(data = income_response[1:], columns = income_response[0])\n",
    "inc['S1901_C01_012E'] = inc['S1901_C01_012E'].astype(int)\n",
    "inc = inc.rename(columns = {'S1901_C01_012E': 'Median Income'})"
   ]
  },
  {
   "cell_type": "code",
   "execution_count": 13,
   "id": "089741c4",
   "metadata": {},
   "outputs": [],
   "source": [
    "from functools import reduce"
   ]
  },
  {
   "cell_type": "code",
   "execution_count": 16,
   "id": "77a115f0",
   "metadata": {},
   "outputs": [
    {
     "data": {
      "text/html": [
       "<div>\n",
       "<style scoped>\n",
       "    .dataframe tbody tr th:only-of-type {\n",
       "        vertical-align: middle;\n",
       "    }\n",
       "\n",
       "    .dataframe tbody tr th {\n",
       "        vertical-align: top;\n",
       "    }\n",
       "\n",
       "    .dataframe thead th {\n",
       "        text-align: right;\n",
       "    }\n",
       "</style>\n",
       "<table border=\"1\" class=\"dataframe\">\n",
       "  <thead>\n",
       "    <tr style=\"text-align: right;\">\n",
       "      <th></th>\n",
       "      <th>victim_county_resident</th>\n",
       "      <th>zip_code</th>\n",
       "      <th>victim_number</th>\n",
       "      <th>offense_nibrs</th>\n",
       "      <th>rpa</th>\n",
       "      <th>latitude</th>\n",
       "      <th>victim_race</th>\n",
       "      <th>incident_number</th>\n",
       "      <th>investigation_status</th>\n",
       "      <th>offense_number</th>\n",
       "      <th>...</th>\n",
       "      <th>TRACTCE</th>\n",
       "      <th>GEOID</th>\n",
       "      <th>NAME</th>\n",
       "      <th>NAMELSAD</th>\n",
       "      <th>MTFCC</th>\n",
       "      <th>FUNCSTAT</th>\n",
       "      <th>ALAND</th>\n",
       "      <th>AWATER</th>\n",
       "      <th>INTPTLAT</th>\n",
       "      <th>INTPTLON</th>\n",
       "    </tr>\n",
       "  </thead>\n",
       "  <tbody>\n",
       "    <tr>\n",
       "      <th>0</th>\n",
       "      <td>RESIDENT</td>\n",
       "      <td>None</td>\n",
       "      <td>1</td>\n",
       "      <td>220</td>\n",
       "      <td>8203</td>\n",
       "      <td>36.15</td>\n",
       "      <td>B</td>\n",
       "      <td>20210249540</td>\n",
       "      <td>Open</td>\n",
       "      <td>1</td>\n",
       "      <td>...</td>\n",
       "      <td>021002</td>\n",
       "      <td>47165021002</td>\n",
       "      <td>210.02</td>\n",
       "      <td>Census Tract 210.02</td>\n",
       "      <td>G5020</td>\n",
       "      <td>S</td>\n",
       "      <td>30654374</td>\n",
       "      <td>207994</td>\n",
       "      <td>+36.3521602</td>\n",
       "      <td>-086.6464309</td>\n",
       "    </tr>\n",
       "    <tr>\n",
       "      <th>158</th>\n",
       "      <td>RESIDENT</td>\n",
       "      <td>None</td>\n",
       "      <td>1</td>\n",
       "      <td>220</td>\n",
       "      <td>8153</td>\n",
       "      <td>36.15</td>\n",
       "      <td>W</td>\n",
       "      <td>20210223220</td>\n",
       "      <td>Open</td>\n",
       "      <td>1</td>\n",
       "      <td>...</td>\n",
       "      <td>021002</td>\n",
       "      <td>47165021002</td>\n",
       "      <td>210.02</td>\n",
       "      <td>Census Tract 210.02</td>\n",
       "      <td>G5020</td>\n",
       "      <td>S</td>\n",
       "      <td>30654374</td>\n",
       "      <td>207994</td>\n",
       "      <td>+36.3521602</td>\n",
       "      <td>-086.6464309</td>\n",
       "    </tr>\n",
       "    <tr>\n",
       "      <th>630</th>\n",
       "      <td>RESIDENT</td>\n",
       "      <td>None</td>\n",
       "      <td>1</td>\n",
       "      <td>220</td>\n",
       "      <td>8201</td>\n",
       "      <td>36.15</td>\n",
       "      <td>B</td>\n",
       "      <td>20210284867</td>\n",
       "      <td>Open</td>\n",
       "      <td>2</td>\n",
       "      <td>...</td>\n",
       "      <td>021002</td>\n",
       "      <td>47165021002</td>\n",
       "      <td>210.02</td>\n",
       "      <td>Census Tract 210.02</td>\n",
       "      <td>G5020</td>\n",
       "      <td>S</td>\n",
       "      <td>30654374</td>\n",
       "      <td>207994</td>\n",
       "      <td>+36.3521602</td>\n",
       "      <td>-086.6464309</td>\n",
       "    </tr>\n",
       "    <tr>\n",
       "      <th>0</th>\n",
       "      <td>RESIDENT</td>\n",
       "      <td>None</td>\n",
       "      <td>1</td>\n",
       "      <td>220</td>\n",
       "      <td>8203</td>\n",
       "      <td>36.15</td>\n",
       "      <td>B</td>\n",
       "      <td>20210249540</td>\n",
       "      <td>Open</td>\n",
       "      <td>1</td>\n",
       "      <td>...</td>\n",
       "      <td>080802</td>\n",
       "      <td>47155080802</td>\n",
       "      <td>808.02</td>\n",
       "      <td>Census Tract 808.02</td>\n",
       "      <td>G5020</td>\n",
       "      <td>S</td>\n",
       "      <td>22956501</td>\n",
       "      <td>0</td>\n",
       "      <td>+35.8454674</td>\n",
       "      <td>-083.5220092</td>\n",
       "    </tr>\n",
       "    <tr>\n",
       "      <th>158</th>\n",
       "      <td>RESIDENT</td>\n",
       "      <td>None</td>\n",
       "      <td>1</td>\n",
       "      <td>220</td>\n",
       "      <td>8153</td>\n",
       "      <td>36.15</td>\n",
       "      <td>W</td>\n",
       "      <td>20210223220</td>\n",
       "      <td>Open</td>\n",
       "      <td>1</td>\n",
       "      <td>...</td>\n",
       "      <td>080802</td>\n",
       "      <td>47155080802</td>\n",
       "      <td>808.02</td>\n",
       "      <td>Census Tract 808.02</td>\n",
       "      <td>G5020</td>\n",
       "      <td>S</td>\n",
       "      <td>22956501</td>\n",
       "      <td>0</td>\n",
       "      <td>+35.8454674</td>\n",
       "      <td>-083.5220092</td>\n",
       "    </tr>\n",
       "  </tbody>\n",
       "</table>\n",
       "<p>5 rows × 44 columns</p>\n",
       "</div>"
      ],
      "text/plain": [
       "    victim_county_resident zip_code victim_number offense_nibrs   rpa  \\\n",
       "0                 RESIDENT     None             1           220  8203   \n",
       "158               RESIDENT     None             1           220  8153   \n",
       "630               RESIDENT     None             1           220  8201   \n",
       "0                 RESIDENT     None             1           220  8203   \n",
       "158               RESIDENT     None             1           220  8153   \n",
       "\n",
       "    latitude victim_race incident_number investigation_status offense_number  \\\n",
       "0      36.15           B     20210249540                 Open              1   \n",
       "158    36.15           W     20210223220                 Open              1   \n",
       "630    36.15           B     20210284867                 Open              2   \n",
       "0      36.15           B     20210249540                 Open              1   \n",
       "158    36.15           W     20210223220                 Open              1   \n",
       "\n",
       "     ... TRACTCE        GEOID    NAME             NAMELSAD  MTFCC FUNCSTAT  \\\n",
       "0    ...  021002  47165021002  210.02  Census Tract 210.02  G5020        S   \n",
       "158  ...  021002  47165021002  210.02  Census Tract 210.02  G5020        S   \n",
       "630  ...  021002  47165021002  210.02  Census Tract 210.02  G5020        S   \n",
       "0    ...  080802  47155080802  808.02  Census Tract 808.02  G5020        S   \n",
       "158  ...  080802  47155080802  808.02  Census Tract 808.02  G5020        S   \n",
       "\n",
       "        ALAND  AWATER     INTPTLAT      INTPTLON  \n",
       "0    30654374  207994  +36.3521602  -086.6464309  \n",
       "158  30654374  207994  +36.3521602  -086.6464309  \n",
       "630  30654374  207994  +36.3521602  -086.6464309  \n",
       "0    22956501       0  +35.8454674  -083.5220092  \n",
       "158  22956501       0  +35.8454674  -083.5220092  \n",
       "\n",
       "[5 rows x 44 columns]"
      ]
     },
     "execution_count": 16,
     "metadata": {},
     "output_type": "execute_result"
    }
   ],
   "source": [
    "#go back and clean up this dataset\n",
    "crime_census_tract.head()"
   ]
  },
  {
   "cell_type": "code",
   "execution_count": 15,
   "id": "6ee1ce0d",
   "metadata": {},
   "outputs": [
    {
     "data": {
      "text/html": [
       "<div>\n",
       "<style scoped>\n",
       "    .dataframe tbody tr th:only-of-type {\n",
       "        vertical-align: middle;\n",
       "    }\n",
       "\n",
       "    .dataframe tbody tr th {\n",
       "        vertical-align: top;\n",
       "    }\n",
       "\n",
       "    .dataframe thead th {\n",
       "        text-align: right;\n",
       "    }\n",
       "</style>\n",
       "<table border=\"1\" class=\"dataframe\">\n",
       "  <thead>\n",
       "    <tr style=\"text-align: right;\">\n",
       "      <th></th>\n",
       "      <th>population</th>\n",
       "      <th>state</th>\n",
       "      <th>county</th>\n",
       "      <th>tract</th>\n",
       "    </tr>\n",
       "  </thead>\n",
       "  <tbody>\n",
       "    <tr>\n",
       "      <th>0</th>\n",
       "      <td>12176</td>\n",
       "      <td>47</td>\n",
       "      <td>037</td>\n",
       "      <td>015631</td>\n",
       "    </tr>\n",
       "    <tr>\n",
       "      <th>1</th>\n",
       "      <td>4098</td>\n",
       "      <td>47</td>\n",
       "      <td>037</td>\n",
       "      <td>015804</td>\n",
       "    </tr>\n",
       "    <tr>\n",
       "      <th>2</th>\n",
       "      <td>2466</td>\n",
       "      <td>47</td>\n",
       "      <td>037</td>\n",
       "      <td>017701</td>\n",
       "    </tr>\n",
       "    <tr>\n",
       "      <th>3</th>\n",
       "      <td>5210</td>\n",
       "      <td>47</td>\n",
       "      <td>037</td>\n",
       "      <td>017702</td>\n",
       "    </tr>\n",
       "    <tr>\n",
       "      <th>4</th>\n",
       "      <td>8254</td>\n",
       "      <td>47</td>\n",
       "      <td>037</td>\n",
       "      <td>018301</td>\n",
       "    </tr>\n",
       "  </tbody>\n",
       "</table>\n",
       "</div>"
      ],
      "text/plain": [
       "   population state county   tract\n",
       "0       12176    47    037  015631\n",
       "1        4098    47    037  015804\n",
       "2        2466    47    037  017701\n",
       "3        5210    47    037  017702\n",
       "4        8254    47    037  018301"
      ]
     },
     "execution_count": 15,
     "metadata": {},
     "output_type": "execute_result"
    }
   ],
   "source": [
    "pop.head()"
   ]
  },
  {
   "cell_type": "code",
   "execution_count": 14,
   "id": "4bc51a41",
   "metadata": {},
   "outputs": [
    {
     "data": {
      "text/html": [
       "<div>\n",
       "<style scoped>\n",
       "    .dataframe tbody tr th:only-of-type {\n",
       "        vertical-align: middle;\n",
       "    }\n",
       "\n",
       "    .dataframe tbody tr th {\n",
       "        vertical-align: top;\n",
       "    }\n",
       "\n",
       "    .dataframe thead th {\n",
       "        text-align: right;\n",
       "    }\n",
       "</style>\n",
       "<table border=\"1\" class=\"dataframe\">\n",
       "  <thead>\n",
       "    <tr style=\"text-align: right;\">\n",
       "      <th></th>\n",
       "      <th>Median Income</th>\n",
       "      <th>state</th>\n",
       "      <th>county</th>\n",
       "      <th>tract</th>\n",
       "    </tr>\n",
       "  </thead>\n",
       "  <tbody>\n",
       "    <tr>\n",
       "      <th>0</th>\n",
       "      <td>75579</td>\n",
       "      <td>47</td>\n",
       "      <td>037</td>\n",
       "      <td>015631</td>\n",
       "    </tr>\n",
       "    <tr>\n",
       "      <th>1</th>\n",
       "      <td>45129</td>\n",
       "      <td>47</td>\n",
       "      <td>037</td>\n",
       "      <td>015804</td>\n",
       "    </tr>\n",
       "    <tr>\n",
       "      <th>2</th>\n",
       "      <td>134786</td>\n",
       "      <td>47</td>\n",
       "      <td>037</td>\n",
       "      <td>017701</td>\n",
       "    </tr>\n",
       "    <tr>\n",
       "      <th>3</th>\n",
       "      <td>107813</td>\n",
       "      <td>47</td>\n",
       "      <td>037</td>\n",
       "      <td>017702</td>\n",
       "    </tr>\n",
       "    <tr>\n",
       "      <th>4</th>\n",
       "      <td>87591</td>\n",
       "      <td>47</td>\n",
       "      <td>037</td>\n",
       "      <td>018301</td>\n",
       "    </tr>\n",
       "  </tbody>\n",
       "</table>\n",
       "</div>"
      ],
      "text/plain": [
       "   Median Income state county   tract\n",
       "0          75579    47    037  015631\n",
       "1          45129    47    037  015804\n",
       "2         134786    47    037  017701\n",
       "3         107813    47    037  017702\n",
       "4          87591    47    037  018301"
      ]
     },
     "execution_count": 14,
     "metadata": {},
     "output_type": "execute_result"
    }
   ],
   "source": [
    "inc.head()"
   ]
  },
  {
   "cell_type": "code",
   "execution_count": 19,
   "id": "17c3a2f1",
   "metadata": {},
   "outputs": [
    {
     "ename": "MergeError",
     "evalue": "No common columns to perform merge on. Merge options: left_on=None, right_on=None, left_index=False, right_index=False",
     "output_type": "error",
     "traceback": [
      "\u001b[0;31m---------------------------------------------------------------------------\u001b[0m",
      "\u001b[0;31mMergeError\u001b[0m                                Traceback (most recent call last)",
      "\u001b[0;32m/var/folders/_0/1rt52xs10g92cmf1h1kdh2cr0000gn/T/ipykernel_1763/2510527245.py\u001b[0m in \u001b[0;36m<module>\u001b[0;34m\u001b[0m\n\u001b[1;32m      2\u001b[0m \u001b[0;34m\u001b[0m\u001b[0m\n\u001b[1;32m      3\u001b[0m \u001b[0mdata\u001b[0m \u001b[0;34m=\u001b[0m \u001b[0;34m[\u001b[0m\u001b[0mcrime_census_tract\u001b[0m\u001b[0;34m,\u001b[0m \u001b[0mpop\u001b[0m\u001b[0;34m,\u001b[0m \u001b[0minc\u001b[0m\u001b[0;34m]\u001b[0m\u001b[0;34m\u001b[0m\u001b[0;34m\u001b[0m\u001b[0m\n\u001b[0;32m----> 4\u001b[0;31m \u001b[0mcrime_pop_inc\u001b[0m \u001b[0;34m=\u001b[0m \u001b[0mreduce\u001b[0m\u001b[0;34m(\u001b[0m\u001b[0;32mlambda\u001b[0m \u001b[0mleft\u001b[0m\u001b[0;34m,\u001b[0m \u001b[0mright\u001b[0m\u001b[0;34m:\u001b[0m \u001b[0mpd\u001b[0m\u001b[0;34m.\u001b[0m\u001b[0mmerge\u001b[0m\u001b[0;34m(\u001b[0m\u001b[0mleft\u001b[0m\u001b[0;34m,\u001b[0m \u001b[0mright\u001b[0m\u001b[0;34m)\u001b[0m\u001b[0;34m,\u001b[0m \u001b[0mdata\u001b[0m\u001b[0;34m)\u001b[0m\u001b[0;34m\u001b[0m\u001b[0;34m\u001b[0m\u001b[0m\n\u001b[0m\u001b[1;32m      5\u001b[0m \u001b[0;31m# incidents_population_income.head()\u001b[0m\u001b[0;34m\u001b[0m\u001b[0;34m\u001b[0m\u001b[0;34m\u001b[0m\u001b[0m\n",
      "\u001b[0;32m/var/folders/_0/1rt52xs10g92cmf1h1kdh2cr0000gn/T/ipykernel_1763/2510527245.py\u001b[0m in \u001b[0;36m<lambda>\u001b[0;34m(left, right)\u001b[0m\n\u001b[1;32m      2\u001b[0m \u001b[0;34m\u001b[0m\u001b[0m\n\u001b[1;32m      3\u001b[0m \u001b[0mdata\u001b[0m \u001b[0;34m=\u001b[0m \u001b[0;34m[\u001b[0m\u001b[0mcrime_census_tract\u001b[0m\u001b[0;34m,\u001b[0m \u001b[0mpop\u001b[0m\u001b[0;34m,\u001b[0m \u001b[0minc\u001b[0m\u001b[0;34m]\u001b[0m\u001b[0;34m\u001b[0m\u001b[0;34m\u001b[0m\u001b[0m\n\u001b[0;32m----> 4\u001b[0;31m \u001b[0mcrime_pop_inc\u001b[0m \u001b[0;34m=\u001b[0m \u001b[0mreduce\u001b[0m\u001b[0;34m(\u001b[0m\u001b[0;32mlambda\u001b[0m \u001b[0mleft\u001b[0m\u001b[0;34m,\u001b[0m \u001b[0mright\u001b[0m\u001b[0;34m:\u001b[0m \u001b[0mpd\u001b[0m\u001b[0;34m.\u001b[0m\u001b[0mmerge\u001b[0m\u001b[0;34m(\u001b[0m\u001b[0mleft\u001b[0m\u001b[0;34m,\u001b[0m \u001b[0mright\u001b[0m\u001b[0;34m)\u001b[0m\u001b[0;34m,\u001b[0m \u001b[0mdata\u001b[0m\u001b[0;34m)\u001b[0m\u001b[0;34m\u001b[0m\u001b[0;34m\u001b[0m\u001b[0m\n\u001b[0m\u001b[1;32m      5\u001b[0m \u001b[0;31m# incidents_population_income.head()\u001b[0m\u001b[0;34m\u001b[0m\u001b[0;34m\u001b[0m\u001b[0;34m\u001b[0m\u001b[0m\n",
      "\u001b[0;32m/opt/anaconda3/envs/geospatial/lib/python3.8/site-packages/pandas/core/reshape/merge.py\u001b[0m in \u001b[0;36mmerge\u001b[0;34m(left, right, how, on, left_on, right_on, left_index, right_index, sort, suffixes, copy, indicator, validate)\u001b[0m\n\u001b[1;32m    103\u001b[0m     \u001b[0mvalidate\u001b[0m\u001b[0;34m:\u001b[0m \u001b[0mstr\u001b[0m \u001b[0;34m|\u001b[0m \u001b[0;32mNone\u001b[0m \u001b[0;34m=\u001b[0m \u001b[0;32mNone\u001b[0m\u001b[0;34m,\u001b[0m\u001b[0;34m\u001b[0m\u001b[0;34m\u001b[0m\u001b[0m\n\u001b[1;32m    104\u001b[0m ) -> DataFrame:\n\u001b[0;32m--> 105\u001b[0;31m     op = _MergeOperation(\n\u001b[0m\u001b[1;32m    106\u001b[0m         \u001b[0mleft\u001b[0m\u001b[0;34m,\u001b[0m\u001b[0;34m\u001b[0m\u001b[0;34m\u001b[0m\u001b[0m\n\u001b[1;32m    107\u001b[0m         \u001b[0mright\u001b[0m\u001b[0;34m,\u001b[0m\u001b[0;34m\u001b[0m\u001b[0;34m\u001b[0m\u001b[0m\n",
      "\u001b[0;32m/opt/anaconda3/envs/geospatial/lib/python3.8/site-packages/pandas/core/reshape/merge.py\u001b[0m in \u001b[0;36m__init__\u001b[0;34m(self, left, right, how, on, left_on, right_on, axis, left_index, right_index, sort, suffixes, copy, indicator, validate)\u001b[0m\n\u001b[1;32m    678\u001b[0m             \u001b[0mwarnings\u001b[0m\u001b[0;34m.\u001b[0m\u001b[0mwarn\u001b[0m\u001b[0;34m(\u001b[0m\u001b[0mmsg\u001b[0m\u001b[0;34m,\u001b[0m \u001b[0mFutureWarning\u001b[0m\u001b[0;34m,\u001b[0m \u001b[0mstacklevel\u001b[0m\u001b[0;34m=\u001b[0m\u001b[0;36m3\u001b[0m\u001b[0;34m)\u001b[0m\u001b[0;34m\u001b[0m\u001b[0;34m\u001b[0m\u001b[0m\n\u001b[1;32m    679\u001b[0m \u001b[0;34m\u001b[0m\u001b[0m\n\u001b[0;32m--> 680\u001b[0;31m         \u001b[0mself\u001b[0m\u001b[0;34m.\u001b[0m\u001b[0m_validate_specification\u001b[0m\u001b[0;34m(\u001b[0m\u001b[0;34m)\u001b[0m\u001b[0;34m\u001b[0m\u001b[0;34m\u001b[0m\u001b[0m\n\u001b[0m\u001b[1;32m    681\u001b[0m \u001b[0;34m\u001b[0m\u001b[0m\n\u001b[1;32m    682\u001b[0m         \u001b[0mcross_col\u001b[0m \u001b[0;34m=\u001b[0m \u001b[0;32mNone\u001b[0m\u001b[0;34m\u001b[0m\u001b[0;34m\u001b[0m\u001b[0m\n",
      "\u001b[0;32m/opt/anaconda3/envs/geospatial/lib/python3.8/site-packages/pandas/core/reshape/merge.py\u001b[0m in \u001b[0;36m_validate_specification\u001b[0;34m(self)\u001b[0m\n\u001b[1;32m   1343\u001b[0m                 \u001b[0mcommon_cols\u001b[0m \u001b[0;34m=\u001b[0m \u001b[0mleft_cols\u001b[0m\u001b[0;34m.\u001b[0m\u001b[0mintersection\u001b[0m\u001b[0;34m(\u001b[0m\u001b[0mright_cols\u001b[0m\u001b[0;34m)\u001b[0m\u001b[0;34m\u001b[0m\u001b[0;34m\u001b[0m\u001b[0m\n\u001b[1;32m   1344\u001b[0m                 \u001b[0;32mif\u001b[0m \u001b[0mlen\u001b[0m\u001b[0;34m(\u001b[0m\u001b[0mcommon_cols\u001b[0m\u001b[0;34m)\u001b[0m \u001b[0;34m==\u001b[0m \u001b[0;36m0\u001b[0m\u001b[0;34m:\u001b[0m\u001b[0;34m\u001b[0m\u001b[0;34m\u001b[0m\u001b[0m\n\u001b[0;32m-> 1345\u001b[0;31m                     raise MergeError(\n\u001b[0m\u001b[1;32m   1346\u001b[0m                         \u001b[0;34m\"No common columns to perform merge on. \"\u001b[0m\u001b[0;34m\u001b[0m\u001b[0;34m\u001b[0m\u001b[0m\n\u001b[1;32m   1347\u001b[0m                         \u001b[0;34mf\"Merge options: left_on={self.left_on}, \"\u001b[0m\u001b[0;34m\u001b[0m\u001b[0;34m\u001b[0m\u001b[0m\n",
      "\u001b[0;31mMergeError\u001b[0m: No common columns to perform merge on. Merge options: left_on=None, right_on=None, left_index=False, right_index=False"
     ]
    }
   ],
   "source": [
    "#https://stackoverflow.com/questions/44327999/python-pandas-merge-multiple-dataframes\n",
    "\n",
    "data = [crime_census_tract, pop, inc]\n",
    "crime_pop_inc = reduce(lambda left, right: pd.merge(left, right), data)\n",
    "# incidents_population_income.head()"
   ]
  }
 ],
 "metadata": {
  "kernelspec": {
   "display_name": "Python 3 (ipykernel)",
   "language": "python",
   "name": "python3"
  },
  "language_info": {
   "codemirror_mode": {
    "name": "ipython",
    "version": 3
   },
   "file_extension": ".py",
   "mimetype": "text/x-python",
   "name": "python",
   "nbconvert_exporter": "python",
   "pygments_lexer": "ipython3",
   "version": "3.8.5"
  }
 },
 "nbformat": 4,
 "nbformat_minor": 5
}
