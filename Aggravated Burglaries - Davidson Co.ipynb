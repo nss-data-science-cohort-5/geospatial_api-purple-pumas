{
 "cells": [
  {
   "cell_type": "code",
   "execution_count": 2,
   "id": "d8c564e5",
   "metadata": {},
   "outputs": [],
   "source": [
    "import requests\n",
    "import matplotlib.pyplot as plt\n",
    "from IPython.display import Image\n",
    "import pandas as pd\n",
    "import json"
   ]
  },
  {
   "cell_type": "code",
   "execution_count": 21,
   "id": "85187fc8",
   "metadata": {},
   "outputs": [],
   "source": [
    "endpoint = 'https://data.nashville.gov/resource/2u6v-ujjs.json?$where=offense_description=BURGLARY- AGGRAVATED' # between 2021-01-01T00:00:00 and 2021-06-30T23:59:59'            "
   ]
  },
  {
   "cell_type": "markdown",
   "id": "29980ef5",
   "metadata": {},
   "source": [
    "params = {\n",
    "    'offense_description': 'BURGLARY- AGGRAVATED',\n",
    "    'incident_reported': between '2021-01-01T00:00:00' and '2021-06-30T23:59:59') \n",
    "}"
   ]
  },
  {
   "cell_type": "code",
   "execution_count": 22,
   "id": "180eba43",
   "metadata": {},
   "outputs": [],
   "source": [
    "response = requests.get(endpoint)#, params=params)"
   ]
  },
  {
   "cell_type": "code",
   "execution_count": 23,
   "id": "3f2f77b3",
   "metadata": {},
   "outputs": [
    {
     "data": {
      "text/plain": [
       "{'message': 'Query coordinator error: query.soql.no-such-column; No such column: BURGLARY; position: Map(row -> 1, column -> 617, line -> \"SELECT `primary_key`, `incident_number`, `report_type`, `report_type_description`, `incident_status_code`, `incident_status_description`, `investigation_status`, `incident_occurred`, `incident_reported`, `incident_location`, `latitude`, `longitude`, `zip_code`, `rpa`, `zone`, `location_code`, `location_description`, `offense_number`, `offense_nibrs`, `offense_description`, `weapon_primary`, `weapon_description`, `victim_number`, `domestic_related`, `victim_type`, `victim_description`, `victim_gender`, `victim_race`, `victim_ethnicity`, `victim_county_resident`, `mapped_location` WHERE `offense_description` = `BURGLARY` - `AGGRAVATED`\\\\n                                                                                                                                                                                                                                                                                                                                                                                                                                                                                                                                                                                                                                        ^\")',\n",
       " 'errorCode': 'query.soql.no-such-column',\n",
       " 'data': {'column': 'BURGLARY',\n",
       "  'dataset': 'charlie.88419',\n",
       "  'position': {'row': 1,\n",
       "   'column': 617,\n",
       "   'line': 'SELECT `primary_key`, `incident_number`, `report_type`, `report_type_description`, `incident_status_code`, `incident_status_description`, `investigation_status`, `incident_occurred`, `incident_reported`, `incident_location`, `latitude`, `longitude`, `zip_code`, `rpa`, `zone`, `location_code`, `location_description`, `offense_number`, `offense_nibrs`, `offense_description`, `weapon_primary`, `weapon_description`, `victim_number`, `domestic_related`, `victim_type`, `victim_description`, `victim_gender`, `victim_race`, `victim_ethnicity`, `victim_county_resident`, `mapped_location` WHERE `offense_description` = `BURGLARY` - `AGGRAVATED`\\n                                                                                                                                                                                                                                                                                                                                                                                                                                                                                                                                                                                                                                        ^'}}}"
      ]
     },
     "execution_count": 23,
     "metadata": {},
     "output_type": "execute_result"
    }
   ],
   "source": [
    "response.json()"
   ]
  },
  {
   "cell_type": "markdown",
   "id": "006d3845",
   "metadata": {},
   "source": [
    "with open ('data/census.json') as fi:\n",
    "    credentials = json.load(fi)\n",
    "    \n",
    "api_key = credentials['api_key']"
   ]
  }
 ],
 "metadata": {
  "kernelspec": {
   "display_name": "Python 3 (ipykernel)",
   "language": "python",
   "name": "python3"
  },
  "language_info": {
   "codemirror_mode": {
    "name": "ipython",
    "version": 3
   },
   "file_extension": ".py",
   "mimetype": "text/x-python",
   "name": "python",
   "nbconvert_exporter": "python",
   "pygments_lexer": "ipython3",
   "version": "3.8.5"
  }
 },
 "nbformat": 4,
 "nbformat_minor": 5
}
