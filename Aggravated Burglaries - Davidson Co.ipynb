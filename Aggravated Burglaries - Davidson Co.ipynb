{
 "cells": [
  {
   "cell_type": "code",
   "execution_count": 1,
   "id": "d8c564e5",
   "metadata": {},
   "outputs": [],
   "source": [
    "import requests\n",
    "import matplotlib.pyplot as plt\n",
    "from IPython.display import Image\n",
    "import pandas as pd\n",
    "import json\n",
    "import geopandas as gpd\n",
    "from io import StringIO\n",
    "from csv import reader\n",
    "from functools import reduce"
   ]
  },
  {
   "cell_type": "markdown",
   "id": "06f73ea5",
   "metadata": {},
   "source": [
    "A dataset containing details about Metro Nashville Police Department reported incidents is available at https://data.nashville.gov/Police/Metro-Nashville-Police-Department-Incidents/2u6v-ujjs. Make use of the API to find all aggravated burglary incidents that were reported during the six month period from January 1, 2021 through June 30, 2021."
   ]
  },
  {
   "cell_type": "code",
   "execution_count": 2,
   "id": "c647ef36",
   "metadata": {},
   "outputs": [],
   "source": [
    "# Create endpoint\n",
    "crime_endpoint = 'https://data.nashville.gov/resource/2u6v-ujjs.geojson'\n",
    "\n",
    "# Create paramters\n",
    "crime_params = {\n",
    "    'offense_description': 'BURGLARY- AGGRAVATED',\n",
    "    '$where': 'incident_reported between \\'2021-01-01\\' and \\'2021-06-30\\'',\n",
    "    '$limit': 2000   \n",
    "\n",
    "}\n",
    "\n",
    "# Generate response\n",
    "response = requests.get(crime_endpoint, params = crime_params)\n",
    "\n",
    "# Convert json object to geopandas DataFrame\n",
    "crime = (gpd.read_file(StringIO(response.text)))\n",
    "\n",
    "# Drop duplicate incident numbers\n",
    "crime = crime.drop_duplicates(subset = 'incident_number')"
   ]
  },
  {
   "cell_type": "markdown",
   "id": "297bc770",
   "metadata": {},
   "source": [
    "Download the 2019 census tract shapefiles for Tennessee from https://www.census.gov/geographies/mapping-files/time-series/geo/tiger-line-file.2019.html. (The FIPS code for Tennessee is 47). Perform a spatial join to determine the census tract in which each burglary incident occurred. Which census tract had the highest number of burglaries? Warning - each incident can appear multiple times if there are multiple victims, so be sure that you aren't double-counting any incidents."
   ]
  },
  {
   "cell_type": "code",
   "execution_count": 3,
   "id": "cb44e06a",
   "metadata": {},
   "outputs": [
    {
     "data": {
      "text/plain": [
       "tract\n",
       "016300    53\n",
       "Name: incident_number, dtype: int64"
      ]
     },
     "execution_count": 3,
     "metadata": {},
     "output_type": "execute_result"
    }
   ],
   "source": [
    "# Read in census tract shapefile\n",
    "tract = (gpd.read_file('data/tl_2019_47_tract.shp'))\n",
    "\n",
    "# Clean up shapefile, covert to proper geometry\n",
    "tract = tract[tract['COUNTYFP'] == '037']\n",
    "tract = tract.rename(columns = {'TRACTCE': 'tract'})\n",
    "tract = tract.to_crs('EPSG:4326')\n",
    "\n",
    "# Spatial join burglaries and census tract tables, keep relevant columns\n",
    "crimeBYtract = gpd.sjoin(crime, tract, how='inner', op ='within')\n",
    "crimeBYtract = crimeBYtract[['incident_number', 'incident_reported', 'geometry', 'tract']]\n",
    "\n",
    "# Tract with highest number of burglaries\n",
    "crimeBYtract.groupby('tract')['incident_number'].nunique().nlargest(1)"
   ]
  },
  {
   "cell_type": "markdown",
   "id": "9ef7b1cc",
   "metadata": {},
   "source": [
    "For this part, you'll need to request a census API key. Using the 2019 American Community Survey API, obtain, for each census tract, the population (B01001_001E in the detailed tables) and the median income (S1901_C01_012E in the subject tables). Hint: Tennessee's FIPS code is 47 and Davidson County's FIPS code is 37. Merge this new data with the burglaries data above."
   ]
  },
  {
   "cell_type": "code",
   "execution_count": 4,
   "id": "1c17392e",
   "metadata": {},
   "outputs": [],
   "source": [
    "# Load API key for American Community Survey API\n",
    "\n",
    "with open ('data/census.json') as fi:\n",
    "    credentials = json.load(fi)\n",
    "    \n",
    "api_key = credentials['api_key']"
   ]
  },
  {
   "cell_type": "code",
   "execution_count": 5,
   "id": "86071f2c",
   "metadata": {},
   "outputs": [],
   "source": [
    "# Create endpoint, parameters, and generate response for population data\n",
    "pop_endpoint = 'https://api.census.gov/data/2019/acs/acs5'\n",
    "pop_params = {\n",
    "    'get': 'B01001_001E',\n",
    "    'for': 'tract:*',\n",
    "    'in': 'state:47 county:037',\n",
    "    'key': api_key\n",
    "}\n",
    "\n",
    "pop_response = requests.get(pop_endpoint, params = pop_params)\n",
    "\n",
    "# Convert response to pandas DataFrame and clean up\n",
    "\n",
    "pop = pop_response.json()\n",
    "pop = pd.DataFrame(data = pop[1:], columns = pop[0])\n",
    "pop['B01001_001E'] = pop['B01001_001E'].astype(int)\n",
    "pop = pop.rename(columns = {'B01001_001E': 'population'})"
   ]
  },
  {
   "cell_type": "code",
   "execution_count": 6,
   "id": "77659c6a",
   "metadata": {},
   "outputs": [],
   "source": [
    " #Create endpoint, parameters, and generate response for income data\n",
    "\n",
    "inc_endpoint = 'https://api.census.gov/data/2019/acs/acs5/subject'\n",
    "inc_params = {\n",
    "    'get': 'S1901_C01_012E',\n",
    "    'for': 'tract:*',\n",
    "    'in': 'state:47 county:037',\n",
    "    'key': api_key\n",
    "}\n",
    "\n",
    "inc_response = requests.get(inc_endpoint, params = inc_params)\n",
    "\n",
    "# Convert response to pandas DataFrame and clean up\n",
    "\n",
    "inc = inc_response.json()\n",
    "inc = pd.DataFrame(data = inc[1:], columns = inc[0])\n",
    "inc = inc.rename(columns={'S1901_C01_012E': 'median income'})\n",
    "inc['median income'] = inc['median income'].astype(int)"
   ]
  },
  {
   "cell_type": "code",
   "execution_count": 13,
   "id": "64bc8883",
   "metadata": {},
   "outputs": [],
   "source": [
    "# Merge all into one DataFrame and clean up\n",
    "\n",
    "dfs = [crimeBYtract, pop, inc]\n",
    "crime_pop_inc = reduce(lambda left, right: pd.merge(left, right, on ='tract'), dfs)\n",
    "crime_pop_inc.geometry.to_crs('EPSG:4326')\n",
    "crime_pop_inc = crime_pop_inc[['incident_number', 'incident_reported', 'tract', 'median income', 'population', 'geometry']]"
   ]
  },
  {
   "cell_type": "code",
   "execution_count": 14,
   "id": "600e23a7",
   "metadata": {},
   "outputs": [
    {
     "data": {
      "text/html": [
       "<div>\n",
       "<style scoped>\n",
       "    .dataframe tbody tr th:only-of-type {\n",
       "        vertical-align: middle;\n",
       "    }\n",
       "\n",
       "    .dataframe tbody tr th {\n",
       "        vertical-align: top;\n",
       "    }\n",
       "\n",
       "    .dataframe thead th {\n",
       "        text-align: right;\n",
       "    }\n",
       "</style>\n",
       "<table border=\"1\" class=\"dataframe\">\n",
       "  <thead>\n",
       "    <tr style=\"text-align: right;\">\n",
       "      <th></th>\n",
       "      <th>incident_number</th>\n",
       "      <th>incident_reported</th>\n",
       "      <th>tract</th>\n",
       "      <th>median income</th>\n",
       "      <th>population</th>\n",
       "      <th>geometry</th>\n",
       "    </tr>\n",
       "  </thead>\n",
       "  <tbody>\n",
       "    <tr>\n",
       "      <th>0</th>\n",
       "      <td>20210249540</td>\n",
       "      <td>2021-05-05T00:45:00</td>\n",
       "      <td>016000</td>\n",
       "      <td>37083</td>\n",
       "      <td>945</td>\n",
       "      <td>POINT (-86.77000 36.15000)</td>\n",
       "    </tr>\n",
       "    <tr>\n",
       "      <th>1</th>\n",
       "      <td>20210187070</td>\n",
       "      <td>2021-04-02T20:04:00</td>\n",
       "      <td>016000</td>\n",
       "      <td>37083</td>\n",
       "      <td>945</td>\n",
       "      <td>POINT (-86.76000 36.14000)</td>\n",
       "    </tr>\n",
       "    <tr>\n",
       "      <th>2</th>\n",
       "      <td>20210006869</td>\n",
       "      <td>2021-01-05T03:11:00</td>\n",
       "      <td>016000</td>\n",
       "      <td>37083</td>\n",
       "      <td>945</td>\n",
       "      <td>POINT (-86.76000 36.14000)</td>\n",
       "    </tr>\n",
       "    <tr>\n",
       "      <th>3</th>\n",
       "      <td>20210223220</td>\n",
       "      <td>2021-04-21T10:00:00</td>\n",
       "      <td>016000</td>\n",
       "      <td>37083</td>\n",
       "      <td>945</td>\n",
       "      <td>POINT (-86.77000 36.15000)</td>\n",
       "    </tr>\n",
       "    <tr>\n",
       "      <th>4</th>\n",
       "      <td>20210013709</td>\n",
       "      <td>2021-01-08T02:35:00</td>\n",
       "      <td>016000</td>\n",
       "      <td>37083</td>\n",
       "      <td>945</td>\n",
       "      <td>POINT (-86.76000 36.14000)</td>\n",
       "    </tr>\n",
       "  </tbody>\n",
       "</table>\n",
       "</div>"
      ],
      "text/plain": [
       "  incident_number    incident_reported   tract  median income  population  \\\n",
       "0     20210249540  2021-05-05T00:45:00  016000          37083         945   \n",
       "1     20210187070  2021-04-02T20:04:00  016000          37083         945   \n",
       "2     20210006869  2021-01-05T03:11:00  016000          37083         945   \n",
       "3     20210223220  2021-04-21T10:00:00  016000          37083         945   \n",
       "4     20210013709  2021-01-08T02:35:00  016000          37083         945   \n",
       "\n",
       "                     geometry  \n",
       "0  POINT (-86.77000 36.15000)  \n",
       "1  POINT (-86.76000 36.14000)  \n",
       "2  POINT (-86.76000 36.14000)  \n",
       "3  POINT (-86.77000 36.15000)  \n",
       "4  POINT (-86.76000 36.14000)  "
      ]
     },
     "execution_count": 14,
     "metadata": {},
     "output_type": "execute_result"
    }
   ],
   "source": [
    "crime_pop_inc.head()"
   ]
  },
  {
   "cell_type": "markdown",
   "id": "7ee77e90",
   "metadata": {},
   "source": [
    "Create a choropleth showing the number of burglaries per 1000 residents for each census tract."
   ]
  },
  {
   "cell_type": "code",
   "execution_count": 16,
   "id": "237c0d59",
   "metadata": {},
   "outputs": [
    {
     "data": {
      "text/plain": [
       "tract\n",
       "010104     5\n",
       "010105     3\n",
       "010106     7\n",
       "010201     4\n",
       "010301     1\n",
       "          ..\n",
       "019300    19\n",
       "019400     9\n",
       "019500    19\n",
       "019600     5\n",
       "980100     3\n",
       "Name: incident_number, Length: 147, dtype: int64"
      ]
     },
     "execution_count": 16,
     "metadata": {},
     "output_type": "execute_result"
    }
   ],
   "source": [
    "crime_pop_inc.groupby('tract')['incident_number'].nunique()"
   ]
  },
  {
   "cell_type": "code",
   "execution_count": null,
   "id": "f13c2f65",
   "metadata": {},
   "outputs": [],
   "source": [
    "choropleth = pd.DataFrame(crime_pop_inc.groupby(['tract', 'population', 'median income'],\n",
    "                                                               as_index = False)['incident_number'].nunique())\n",
    "choropleth['incident_rate'] = chloropleth['incident_number'] / chloropleth['population'] * 1000\n",
    "choropleth = pd.merge(left = davidson_county, right = chloropleth, how = 'left')"
   ]
  },
  {
   "cell_type": "markdown",
   "id": "d4b16429",
   "metadata": {},
   "source": [
    "Finally, we'll build some statistical models to see how well we can explain the number of aggravated burglaries using the median income of each census tract. For this, we'll be using the Generalized Linear Models module of the statsmodels library.\n",
    "\n",
    "a. Build a \"base model\" - a Poisson regression model with just an intercept term with target variable the rate of burglaries per census tract. (Offset using the [log of the] population so that we are looking at the rate of burglaries per population instead of the number of burglaries.)\n",
    "\n",
    "b. Now, build a Poisson regression model with target variable the rate of burglaries and predictor variable the median income. (Don't forget to offset by the population).\n",
    "\n",
    "c. Finally, try out a negative binomial model. To get started with a negative binomial model, you can check out this tutorial.\n",
    "\n",
    "d. How do your models compare? Hint: the fit models have an AIC attribute."
   ]
  }
 ],
 "metadata": {
  "kernelspec": {
   "display_name": "Python 3 (ipykernel)",
   "language": "python",
   "name": "python3"
  },
  "language_info": {
   "codemirror_mode": {
    "name": "ipython",
    "version": 3
   },
   "file_extension": ".py",
   "mimetype": "text/x-python",
   "name": "python",
   "nbconvert_exporter": "python",
   "pygments_lexer": "ipython3",
   "version": "3.8.5"
  }
 },
 "nbformat": 4,
 "nbformat_minor": 5
}
